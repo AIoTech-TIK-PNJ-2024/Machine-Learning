{
 "cells": [
  {
   "cell_type": "code",
   "execution_count": 1,
   "metadata": {},
   "outputs": [
    {
     "name": "stdout",
     "output_type": "stream",
     "text": [
      "Requirement already satisfied: Sastrawi in c:\\users\\limdaenery93\\anaconda3\\lib\\site-packages (1.0.1)\n",
      "Note: you may need to restart the kernel to use updated packages.\n"
     ]
    },
    {
     "name": "stderr",
     "output_type": "stream",
     "text": [
      "WARNING: Ignoring invalid distribution -ygments (c:\\users\\limdaenery93\\anaconda3\\lib\\site-packages)\n",
      "WARNING: Ignoring invalid distribution -ygments (c:\\users\\limdaenery93\\anaconda3\\lib\\site-packages)\n"
     ]
    }
   ],
   "source": [
    "%pip install Sastrawi"
   ]
  },
  {
   "cell_type": "code",
   "execution_count": 293,
   "metadata": {},
   "outputs": [],
   "source": [
    "import pandas as pd\n",
    "import matplotlib.pyplot as plt\n",
    "import nltk\n",
    "import re\n",
    "from nltk.tokenize import word_tokenize\n",
    "from nltk.corpus import stopwords\n",
    "from Sastrawi.Stemmer.StemmerFactory import StemmerFactory\n",
    "from sklearn.feature_extraction.text import TfidfVectorizer\n",
    "from sklearn import svm\n",
    "from sklearn.model_selection import train_test_split\n",
    "from sklearn.metrics import classification_report"
   ]
  },
  {
   "cell_type": "code",
   "execution_count": 349,
   "metadata": {},
   "outputs": [],
   "source": [
    "# Load dataset\n",
    "df = pd.read_csv('smart_locker_reviews(2).csv', sep=\";\")"
   ]
  },
  {
   "cell_type": "code",
   "execution_count": 350,
   "metadata": {},
   "outputs": [
    {
     "data": {
      "text/html": [
       "<div>\n",
       "<style scoped>\n",
       "    .dataframe tbody tr th:only-of-type {\n",
       "        vertical-align: middle;\n",
       "    }\n",
       "\n",
       "    .dataframe tbody tr th {\n",
       "        vertical-align: top;\n",
       "    }\n",
       "\n",
       "    .dataframe thead th {\n",
       "        text-align: right;\n",
       "    }\n",
       "</style>\n",
       "<table border=\"1\" class=\"dataframe\">\n",
       "  <thead>\n",
       "    <tr style=\"text-align: right;\">\n",
       "      <th></th>\n",
       "      <th>review</th>\n",
       "      <th>sentiment</th>\n",
       "    </tr>\n",
       "  </thead>\n",
       "  <tbody>\n",
       "    <tr>\n",
       "      <th>0</th>\n",
       "      <td>Kualitas smart locker ini sangat buruk, sering...</td>\n",
       "      <td>Negative</td>\n",
       "    </tr>\n",
       "    <tr>\n",
       "      <th>1</th>\n",
       "      <td>Desain smart locker sangat modern dan menarik.</td>\n",
       "      <td>Positive</td>\n",
       "    </tr>\n",
       "    <tr>\n",
       "      <th>2</th>\n",
       "      <td>Smart locker ini memiliki fitur yang cukup sta...</td>\n",
       "      <td>Neutral</td>\n",
       "    </tr>\n",
       "    <tr>\n",
       "      <th>3</th>\n",
       "      <td>Keamanan smart locker ini sangat tinggi, saya ...</td>\n",
       "      <td>Positive</td>\n",
       "    </tr>\n",
       "    <tr>\n",
       "      <th>4</th>\n",
       "      <td>Smart locker ini sering tidak bisa diakses saa...</td>\n",
       "      <td>Negative</td>\n",
       "    </tr>\n",
       "    <tr>\n",
       "      <th>...</th>\n",
       "      <td>...</td>\n",
       "      <td>...</td>\n",
       "    </tr>\n",
       "    <tr>\n",
       "      <th>118</th>\n",
       "      <td>Nggak terlalu istimewa, tapi face recognition-...</td>\n",
       "      <td>Neutral</td>\n",
       "    </tr>\n",
       "    <tr>\n",
       "      <th>119</th>\n",
       "      <td>Jelek banget, smart locker ini nggak bisa dian...</td>\n",
       "      <td>Negative</td>\n",
       "    </tr>\n",
       "    <tr>\n",
       "      <th>120</th>\n",
       "      <td>Smart locker ini kurang baik</td>\n",
       "      <td>Negative</td>\n",
       "    </tr>\n",
       "    <tr>\n",
       "      <th>121</th>\n",
       "      <td>Smart locker ini sangat baik</td>\n",
       "      <td>Positive</td>\n",
       "    </tr>\n",
       "    <tr>\n",
       "      <th>122</th>\n",
       "      <td>Smart locker ini baik</td>\n",
       "      <td>Positive</td>\n",
       "    </tr>\n",
       "  </tbody>\n",
       "</table>\n",
       "<p>123 rows × 2 columns</p>\n",
       "</div>"
      ],
      "text/plain": [
       "                                                review sentiment\n",
       "0    Kualitas smart locker ini sangat buruk, sering...  Negative\n",
       "1       Desain smart locker sangat modern dan menarik.  Positive\n",
       "2    Smart locker ini memiliki fitur yang cukup sta...   Neutral\n",
       "3    Keamanan smart locker ini sangat tinggi, saya ...  Positive\n",
       "4    Smart locker ini sering tidak bisa diakses saa...  Negative\n",
       "..                                                 ...       ...\n",
       "118  Nggak terlalu istimewa, tapi face recognition-...   Neutral\n",
       "119  Jelek banget, smart locker ini nggak bisa dian...  Negative\n",
       "120                       Smart locker ini kurang baik  Negative\n",
       "121                       Smart locker ini sangat baik  Positive\n",
       "122                              Smart locker ini baik  Positive\n",
       "\n",
       "[123 rows x 2 columns]"
      ]
     },
     "execution_count": 350,
     "metadata": {},
     "output_type": "execute_result"
    }
   ],
   "source": [
    "# df1.to_csv('s(2).csv', index=False)\n",
    "df"
   ]
  },
  {
   "cell_type": "markdown",
   "metadata": {},
   "source": [
    "### Case Folding"
   ]
  },
  {
   "cell_type": "code",
   "execution_count": 351,
   "metadata": {},
   "outputs": [],
   "source": [
    "# Ensure reviews are strings and lowercase\n",
    "df['review'] = df['review'].astype(str).str.lower()"
   ]
  },
  {
   "cell_type": "code",
   "execution_count": 352,
   "metadata": {},
   "outputs": [],
   "source": [
    "def clean_text(text):\n",
    "    # Remove punctuation and special characters\n",
    "    text = re.sub(r'[^\\w\\s]', '', text)\n",
    "    # Remove numbers\n",
    "    text = re.sub(r'\\d+', '', text)\n",
    "    return text\n",
    "\n",
    "df['cleaned_review'] = df['review'].apply(clean_text)"
   ]
  },
  {
   "cell_type": "markdown",
   "metadata": {},
   "source": [
    "### Tokenizing"
   ]
  },
  {
   "cell_type": "code",
   "execution_count": 353,
   "metadata": {},
   "outputs": [],
   "source": [
    "df['tokens'] = df['cleaned_review'].apply(word_tokenize)"
   ]
  },
  {
   "cell_type": "markdown",
   "metadata": {},
   "source": [
    "### Stopword Removal"
   ]
  },
  {
   "cell_type": "code",
   "execution_count": 299,
   "metadata": {},
   "outputs": [
    {
     "name": "stderr",
     "output_type": "stream",
     "text": [
      "[nltk_data] Downloading package stopwords to\n",
      "[nltk_data]     C:\\Users\\LimDaenery93\\AppData\\Roaming\\nltk_data...\n",
      "[nltk_data]   Package stopwords is already up-to-date!\n"
     ]
    },
    {
     "data": {
      "text/plain": [
       "True"
      ]
     },
     "execution_count": 299,
     "metadata": {},
     "output_type": "execute_result"
    }
   ],
   "source": [
    "nltk.download('stopwords')"
   ]
  },
  {
   "cell_type": "code",
   "execution_count": 354,
   "metadata": {},
   "outputs": [],
   "source": [
    "stop_words = set(stopwords.words('indonesian'))\n",
    "\n",
    "def remove_stopwords(text):\n",
    "    return [word for word in text if word not in stop_words]\n",
    "\n",
    "df['tokens'] = df['tokens'].apply(remove_stopwords)"
   ]
  },
  {
   "cell_type": "markdown",
   "metadata": {},
   "source": [
    "### Stemming"
   ]
  },
  {
   "cell_type": "code",
   "execution_count": 355,
   "metadata": {},
   "outputs": [],
   "source": [
    "factory = StemmerFactory()\n",
    "stemmer = factory.create_stemmer()\n",
    "\n",
    "def stem_tokenizer(text):\n",
    "    return [stemmer.stem(word) for word in text]\n",
    "\n",
    "df['tokens'] = df['tokens'].apply(stem_tokenizer)\n",
    "\n",
    "df['processed_review'] = df['tokens'].apply(lambda x: ' '.join(x))"
   ]
  },
  {
   "cell_type": "markdown",
   "metadata": {},
   "source": [
    "### Pembobotan TF-IDF"
   ]
  },
  {
   "cell_type": "code",
   "execution_count": 356,
   "metadata": {},
   "outputs": [],
   "source": [
    "tfidf_vectorizer = TfidfVectorizer()\n",
    "tfidf_matrix = tfidf_vectorizer.fit_transform(df['processed_review'])"
   ]
  },
  {
   "cell_type": "code",
   "execution_count": 357,
   "metadata": {},
   "outputs": [
    {
     "name": "stdout",
     "output_type": "stream",
     "text": [
      "Kata: akurat, Kemunculan: 5.127134385045092\n",
      "Kata: benerbener, Kemunculan: 5.127134385045092\n",
      "Kata: cocok, Kemunculan: 5.127134385045092\n",
      "Kata: fiturnya, Kemunculan: 5.127134385045092\n",
      "Kata: jalan, Kemunculan: 5.127134385045092\n",
      "Kata: mantap, Kemunculan: 5.127134385045092\n",
      "Kata: pas, Kemunculan: 5.127134385045092\n",
      "Kata: susah, Kemunculan: 5.127134385045092\n",
      "Kata: teknologi, Kemunculan: 5.127134385045092\n",
      "Kata: aja, Kemunculan: 4.721669276936927\n"
     ]
    }
   ],
   "source": [
    "# Menampilkan 10 kata dengan nilai IDF tertinggi\n",
    "freqs = tfidf_matrix.sum(axis=0)\n",
    "idf_values = tfidf_vectorizer.idf_\n",
    "word_idf = dict(zip(tfidf_vectorizer.get_feature_names_out(), idf_values))\n",
    "\n",
    "top_idf_words = sorted(word_idf.items(), key=lambda x: x[1], reverse=True)[:10]\n",
    "for word, idf in top_idf_words:\n",
    "    print(f'Kata: {word}, Kemunculan: {idf}')"
   ]
  },
  {
   "cell_type": "markdown",
   "metadata": {},
   "source": [
    "### klasifikasi SVM"
   ]
  },
  {
   "cell_type": "code",
   "execution_count": 358,
   "metadata": {},
   "outputs": [
    {
     "data": {
      "text/plain": [
       "SVC(kernel='linear')"
      ]
     },
     "execution_count": 358,
     "metadata": {},
     "output_type": "execute_result"
    }
   ],
   "source": [
    "from sklearn import svm\n",
    "from sklearn.model_selection import train_test_split\n",
    "\n",
    "X_train, X_test, y_train, y_test = train_test_split(tfidf_matrix, df['sentiment'], test_size=0.2, random_state=5)\n",
    "\n",
    "model = svm.SVC(kernel='linear')\n",
    "model.fit(tfidf_matrix, df['sentiment'])"
   ]
  },
  {
   "cell_type": "code",
   "execution_count": 359,
   "metadata": {},
   "outputs": [
    {
     "data": {
      "text/plain": [
       "array(['Neutral', 'Neutral', 'Neutral', 'Positive', 'Neutral', 'Neutral',\n",
       "       'Positive', 'Positive', 'Positive', 'Negative', 'Positive',\n",
       "       'Positive', 'Positive', 'Positive', 'Negative', 'Neutral',\n",
       "       'Positive', 'Negative', 'Negative', 'Negative', 'Negative',\n",
       "       'Positive', 'Negative', 'Positive', 'Negative'], dtype=object)"
      ]
     },
     "execution_count": 359,
     "metadata": {},
     "output_type": "execute_result"
    }
   ],
   "source": [
    "pred = model.predict(X_test)\n",
    "pred"
   ]
  },
  {
   "cell_type": "code",
   "execution_count": 360,
   "metadata": {},
   "outputs": [
    {
     "name": "stdout",
     "output_type": "stream",
     "text": [
      "Accuracy : 0.92\n"
     ]
    }
   ],
   "source": [
    "print(f\"Accuracy : {model.score(X_test, y_test)}\")"
   ]
  },
  {
   "cell_type": "code",
   "execution_count": 361,
   "metadata": {},
   "outputs": [
    {
     "data": {
      "image/png": "[encoded data removed]",
      "text/plain": [
       "<Figure size 640x480 with 1 Axes>"
      ]
     },
     "metadata": {},
     "output_type": "display_data"
    }
   ],
   "source": [
    "from sklearn.metrics import accuracy_score, precision_score, recall_score, f1_score\n",
    "\n",
    "pred = model.predict(X_test)\n",
    "acc_score = accuracy_score(y_test, pred) \n",
    "pre_score = precision_score(y_test, pred, average='weighted')\n",
    "rec_score = recall_score(y_test, pred, average='weighted')\n",
    "f_score = f1_score(y_test, pred, average='weighted')\n",
    "\n",
    "scores = {\n",
    "    'Accuracy': acc_score,\n",
    "    'Precision': pre_score,\n",
    "    'Recall': rec_score, \n",
    "    'F-Measure': f_score\n",
    "}\n",
    "\n",
    "eval_df = pd.DataFrame.from_dict(scores, orient='index', columns=['Score']) \n",
    "\n",
    "eval_df['Score'].plot(kind='line', marker='o', color='blue') \n",
    "\n",
    "plt.title('Hasil Evaluasi Model')\n",
    "plt.xlabel('Metrik') \n",
    "plt.ylabel('Nilai Rata-Rata')\n",
    "plt.grid(True) \n",
    "\n",
    "plt.show()"
   ]
  },
  {
   "cell_type": "code",
   "execution_count": 362,
   "metadata": {},
   "outputs": [],
   "source": [
    "def preprocess_review(review):\n",
    "    review = review.lower()\n",
    "    tokens = word_tokenize(review)\n",
    "    tokens = remove_stopwords(tokens)\n",
    "    tokens = stem_tokenizer(tokens)\n",
    "    return ' '.join(tokens)\n",
    "\n",
    "def predict_sentiment(review):\n",
    "    preprocessed_review = preprocess_review(review)\n",
    "    tfidf_review = tfidf_vectorizer.transform([preprocessed_review])\n",
    "    sentiment = model.predict(tfidf_review)\n",
    "    return sentiment[0]"
   ]
  },
  {
   "cell_type": "code",
   "execution_count": 363,
   "metadata": {},
   "outputs": [
    {
     "name": "stdout",
     "output_type": "stream",
     "text": [
      "Review: gagal\n",
      "Predicted Sentiment: Negative\n",
      "\n",
      "Review: keren\n",
      "Predicted Sentiment: Positive\n",
      "\n",
      "Review: Smart locker ini baik\n",
      "Predicted Sentiment: Negative\n",
      "\n",
      "Review: smart locker ini aman\n",
      "Predicted Sentiment: Positive\n",
      "\n",
      "Review: Keamanan smart locker ini sangat tinggi, saya merasa barang-barang saya aman.\n",
      "Predicted Sentiment: Positive\n",
      "\n"
     ]
    }
   ],
   "source": [
    "new_reviews = [\n",
    "    \"gagal\",\n",
    "    \"keren\",\n",
    "    \"Smart locker ini baik\",\n",
    "    \"smart locker ini aman\",\n",
    "    \"Keamanan smart locker ini sangat tinggi, saya merasa barang-barang saya aman.\"\n",
    "]\n",
    "for review in new_reviews:\n",
    "    sentiment = predict_sentiment(review)\n",
    "    print(f\"Review: {review}\\nPredicted Sentiment: {sentiment}\\n\")"
   ]
  }
 ],
 "metadata": {
  "kernelspec": {
   "display_name": "base",
   "language": "python",
   "name": "python3"
  },
  "language_info": {
   "codemirror_mode": {
    "name": "ipython",
    "version": 3
   },
   "file_extension": ".py",
   "mimetype": "text/x-python",
   "name": "python",
   "nbconvert_exporter": "python",
   "pygments_lexer": "ipython3",
   "version": "3.9.19"
  }
 },
 "nbformat": 4,
 "nbformat_minor": 2
}
